{
  "nbformat": 4,
  "nbformat_minor": 0,
  "metadata": {
    "colab": {
      "provenance": [],
      "authorship_tag": "ABX9TyPozHOj/aPyl5dPvZcGZOzn",
      "include_colab_link": true
    },
    "kernelspec": {
      "name": "python3",
      "display_name": "Python 3"
    },
    "language_info": {
      "name": "python"
    }
  },
  "cells": [
    {
      "cell_type": "markdown",
      "metadata": {
        "id": "view-in-github",
        "colab_type": "text"
      },
      "source": [
        "<a href=\"https://colab.research.google.com/github/VarshaNair880/Statistics/blob/main/Lost_Key_problem.ipynb\" target=\"_parent\"><img src=\"https://colab.research.google.com/assets/colab-badge.svg\" alt=\"Open In Colab\"/></a>"
      ]
    },
    {
      "cell_type": "markdown",
      "source": [
        "# Finding the right key\n"
      ],
      "metadata": {
        "id": "h-ZSiB4T9rRE"
      }
    },
    {
      "cell_type": "markdown",
      "source": [
        "##Description:\n"
      ],
      "metadata": {
        "id": "BmyKOMBX-ele"
      }
    },
    {
      "cell_type": "markdown",
      "source": [
        "You have lost the key to your house. Your houseowner gives you a bunch of 50 look-alike keys and asks you to find your key from the bunch. What is the probability that you get the right key in your fifth attempt?"
      ],
      "metadata": {
        "id": "0Ony1He79955"
      }
    },
    {
      "cell_type": "markdown",
      "source": [
        "##Computation:\n"
      ],
      "metadata": {
        "id": "ReFzeIps-0Ye"
      }
    },
    {
      "cell_type": "markdown",
      "source": [
        "The right key can be any of the 50 keys. The first case is when you get the right key on the first try. The second care is when the first key is the wrong key and the second key is the right key. Similarly, in the third case, the first two keys are wrong and the third is the right key. This sequence can be followed till 49 keys are wrong and the 50th key is the right key. Suppose 1 denotes the right key and 0 represents the wrong key, the sample space can be written as : \n",
        "##S = {1,01,001,0001,.........,0(49 times)1}\n",
        "\n",
        "## This represents a Uniform distribution where the probability of getting the right key is 1/50 = 0.02.\n"
      ],
      "metadata": {
        "id": "SlRg6ENngxEq"
      }
    },
    {
      "cell_type": "markdown",
      "source": [
        "#Simulation:\n"
      ],
      "metadata": {
        "id": "y_IllvQuq-Kk"
      }
    },
    {
      "cell_type": "markdown",
      "source": [
        "##Importing\n",
        "\n",
        "Import package random to shuffle the list in random order."
      ],
      "metadata": {
        "id": "68rJgsmgmGat"
      }
    },
    {
      "cell_type": "code",
      "execution_count": null,
      "metadata": {
        "id": "LvODTYDI9nir"
      },
      "outputs": [],
      "source": [
        "import random as rd "
      ]
    },
    {
      "cell_type": "markdown",
      "source": [
        "##Defining a function\n",
        "\n",
        "We define a function **find_right_key** with parameter **num_keys** to generate a set of keys which are shuffled for each trial."
      ],
      "metadata": {
        "id": "JvW3v-ADlaBC"
      }
    },
    {
      "cell_type": "code",
      "source": [
        "def find_right_key(num_keys):\n",
        "    keys = list(range(num_keys))  #generating a list of keys\n",
        "    rd.shuffle(keys)    #shuffling keys for different trials\n",
        "    return keys[4] == 0  #checking if the 5th key in the list is the right key"
      ],
      "metadata": {
        "id": "VTPtaXNxmroG"
      },
      "execution_count": null,
      "outputs": []
    },
    {
      "cell_type": "markdown",
      "source": [
        "##Finding the number of success\n",
        "\n",
        "Specify the number of trials and initialise number of success to 0. Then repeat the experiment for the number of trials specified. "
      ],
      "metadata": {
        "id": "JU06-j2tnV7N"
      }
    },
    {
      "cell_type": "code",
      "source": [
        "num_trials = 100000\n",
        "num_success = 0\n",
        "\n",
        "for i in range(num_trials):\n",
        "    if find_right_key(50):\n",
        "        num_success += 1\n",
        "\n",
        "\n",
        "prob_success = num_success / num_trials\n",
        "print(\"Probability of finding the right key in the fifth trial:\", prob_success)"
      ],
      "metadata": {
        "colab": {
          "base_uri": "https://localhost:8080/"
        },
        "id": "e3cLVbWool8z",
        "outputId": "255818d9-dafe-466c-a1d6-d56eec5de7b5"
      },
      "execution_count": null,
      "outputs": [
        {
          "output_type": "stream",
          "name": "stdout",
          "text": [
            "Probability of finding the right key in the fifth trial: 0.01996\n"
          ]
        }
      ]
    },
    {
      "cell_type": "markdown",
      "source": [
        "#Analysis\n",
        "\n"
      ],
      "metadata": {
        "id": "tno9ZYNTp2or"
      }
    },
    {
      "cell_type": "markdown",
      "source": [
        "The probability that you will get the right key in the fifth try is 1/50 which equals 0.02.\n",
        "Monte Carlo Simulation gives value approximately 0.01996 which is close to 0.02. \n",
        "Hence, the manual computation matches the simulation!"
      ],
      "metadata": {
        "id": "7kRpv8wcrLd-"
      }
    },
    {
      "cell_type": "markdown",
      "source": [],
      "metadata": {
        "id": "Lq4RS7PawcY0"
      }
    }
  ]
}